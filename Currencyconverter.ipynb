{
 "cells": [
  {
   "cell_type": "code",
   "execution_count": 1,
   "id": "74e948ae-d0c8-4216-b952-c19f036106aa",
   "metadata": {},
   "outputs": [
    {
     "name": "stdin",
     "output_type": "stream",
     "text": [
      "Enter the amount:  400\n",
      "Enter the currency you want to convert from (e.g., USD, INR):  USD\n",
      "Enter the currency you want to convert to (e.g., USD, INR):  INR\n"
     ]
    },
    {
     "name": "stdout",
     "output_type": "stream",
     "text": [
      "400.0 USD is equal to 33380.00 INR\n"
     ]
    }
   ],
   "source": [
    "import requests\n",
    "\n",
    "# Function to fetch exchange rates from an API\n",
    "def get_exchange_rates(api_url):\n",
    "    response = requests.get(api_url)\n",
    "    data = response.json()\n",
    "    return data['rates']\n",
    "\n",
    "# Function to convert currency\n",
    "def convert_currency(amount, from_currency, to_currency, rates):\n",
    "    if from_currency != 'INR':\n",
    "        amount = amount / rates[from_currency]\n",
    "    return amount * rates[to_currency]\n",
    "\n",
    "# Main function to interact with the user and perform conversion\n",
    "def main():\n",
    "    # API URL for fetching exchange rates\n",
    "    api_url = 'https://api.exchangerate-api.com/v4/latest/USD'\n",
    "    rates = get_exchange_rates(api_url)\n",
    "    \n",
    "    # Taking input from the user\n",
    "    amount = float(input(\"Enter the amount: \"))\n",
    "    from_currency = input(\"Enter the currency you want to convert from (e.g., USD, INR): \").upper()\n",
    "    to_currency = input(\"Enter the currency you want to convert to (e.g., USD, INR): \").upper()\n",
    "    \n",
    "    # Conversion \n",
    "    converted_amount = convert_currency(amount, from_currency, to_currency, rates)\n",
    "    \n",
    "    # Display result\n",
    "    print(f\"{amount} {from_currency} is equal to {converted_amount:.2f} {to_currency}\")\n",
    "\n",
    "# Run the main function\n",
    "main()\n"
   ]
  },
  {
   "cell_type": "code",
   "execution_count": null,
   "id": "3b73850d-debc-40b8-bd5d-7f15bf05e4d3",
   "metadata": {},
   "outputs": [],
   "source": []
  }
 ],
 "metadata": {
  "kernelspec": {
   "display_name": "Python 3 (ipykernel)",
   "language": "python",
   "name": "python3"
  },
  "language_info": {
   "codemirror_mode": {
    "name": "ipython",
    "version": 3
   },
   "file_extension": ".py",
   "mimetype": "text/x-python",
   "name": "python",
   "nbconvert_exporter": "python",
   "pygments_lexer": "ipython3",
   "version": "3.11.5"
  }
 },
 "nbformat": 4,
 "nbformat_minor": 5
}
